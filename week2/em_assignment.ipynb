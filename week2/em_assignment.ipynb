{
 "cells": [
  {
   "cell_type": "markdown",
   "metadata": {
    "id": "WMlNHfVxBEDT"
   },
   "source": [
    "# Expectation-maximization algorithm"
   ]
  },
  {
   "cell_type": "markdown",
   "metadata": {
    "id": "icS4MsxIBEDU"
   },
   "source": [
    "In this assignment, we will derive and implement formulas for Gaussian Mixture Model — one of the most commonly used methods for performing soft clustering of the data. "
   ]
  },
  {
   "cell_type": "code",
   "execution_count": 7,
   "metadata": {
    "id": "urylZcbeBEDc"
   },
   "outputs": [],
   "source": [
    "import numpy as np\n",
    "import scipy\n",
    "from numpy.linalg import slogdet, det, solve\n",
    "from scipy.special import softmax\n",
    "import matplotlib.pyplot as plt\n",
    "import time\n",
    "from sklearn.datasets import load_digits\n",
    "%matplotlib inline"
   ]
  },
  {
   "cell_type": "markdown",
   "metadata": {
    "id": "dL3A2sntBEDj"
   },
   "source": [
    "## Implementing EM for GMM"
   ]
  },
  {
   "cell_type": "markdown",
   "metadata": {
    "id": "0xPS_VdpBEDk"
   },
   "source": [
    "For debugging, we will use samples from a Gaussian mixture model with unknown mean, variance, and priors. We also added initial values of parameters for grading purposes."
   ]
  },
  {
   "cell_type": "code",
   "execution_count": 8,
   "metadata": {
    "colab": {
     "base_uri": "https://localhost:8080/",
     "height": 265
    },
    "id": "g9_aOn94BEDl",
    "outputId": "f5d054b3-8818-4b1d-f7db-799f011f494d"
   },
   "outputs": [
    {
     "data": {
      "image/png": "[encoded data removed]",
      "text/plain": [
       "<Figure size 432x288 with 1 Axes>"
      ]
     },
     "metadata": {
      "needs_background": "light"
     },
     "output_type": "display_data"
    }
   ],
   "source": [
    "samples = np.load('samples.npz')\n",
    "X = samples['data']\n",
    "pi0 = samples['pi0']\n",
    "mu0 = samples['mu0']\n",
    "sigma0 = samples['sigma0']\n",
    "plt.scatter(X[:, 0], X[:, 1], c='grey', s=30)\n",
    "plt.axis('equal')\n",
    "plt.show()"
   ]
  },
  {
   "cell_type": "markdown",
   "metadata": {
    "id": "AmgeHTCfBEDp"
   },
   "source": [
    "### Reminder"
   ]
  },
  {
   "cell_type": "markdown",
   "metadata": {
    "id": "RgAwWi1nBEDq"
   },
   "source": [
    "Remember, that EM algorithm is a coordinate descent optimization of variational lower bound $\\mathcal{L}(\\theta, q) = \\int q(T) \\log\\frac{p(X, T|\\theta)}{q(T)}dT\\to \\max$.\n",
    "\n",
    "<b>E-step</b>:<br>\n",
    "$\\mathcal{L}(\\theta, q) \\to \\max\\limits_{q} \\Leftrightarrow \\mathcal{KL} [q(T) \\,\\|\\, p(T|X, \\theta)] \\to \\min \\limits_{q\\in Q} \\Rightarrow q(T) = p(T|X, \\theta)$<br>\n",
    "<b>M-step</b>:<br> \n",
    "$\\mathcal{L}(\\theta, q) \\to \\max\\limits_{\\theta} \\Leftrightarrow \\mathbb{E}_{q(T)}\\log p(X,T | \\theta) \\to \\max\\limits_{\\theta}$\n",
    "\n",
    "For GMM, $\\theta$ is a set of parameters that consists of mean vectors $\\mu_c$, covariance matrices $\\Sigma_c$ and priors $\\pi_c$ for each component.\n",
    "\n",
    "Latent variables $T$ are indices of components to which each data point is assigned, i.e. $t_i$  is the cluster index for object $x_i$.\n",
    "\n",
    "The joint distribution can be written as follows: $\\mathbb{E}_{q(T)}\\log p(T, X \\mid \\theta) =  \\sum\\limits_{i=1}^N \\mathbb{E}_{q(T)}\\log p(t_i, x_i \\mid \\theta) = \\sum\\limits_{i=1}^N \\sum\\limits_{c=1}^C q(t_i = c) \\log \\left (\\pi_c \\, f_{\\!\\mathcal{N}}(x_i \\mid \\mu_c, \\Sigma_c)\\right)$,\n",
    "where $f_{\\!\\mathcal{N}}(x \\mid \\mu_c, \\Sigma_c) = \\frac{1}{\\sqrt{(2\\pi)^d|\\boldsymbol\\Sigma_c|}}\n",
    "\\exp\\left(-\\frac{1}{2}({x}-{\\mu_c})^T{\\boldsymbol\\Sigma_c}^{-1}({x}-{\\mu_c})\n",
    "\\right)$ is the probability density function (pdf) of the normal distribution $\\mathcal{N}(x_i \\mid \\mu_c, \\Sigma_c)$."
   ]
  },
  {
   "cell_type": "markdown",
   "metadata": {
    "id": "ELmi1nAtBEDr"
   },
   "source": [
    "### E-step\n",
    "In this step we need to estimate the posterior distribution over the latent variables with fixed values of parameters: $q_i(t_i) = p(t_i \\mid x_i, \\theta)$. We assume that $t_i$ equals to the cluster index of the true component of the $x_i$ object. To do so we need to compute $\\gamma_{ic} = p(t_i = c \\mid x_i, \\theta)$. Note that $\\sum\\limits_{c=1}^C\\gamma_{ic}=1$.\n"
   ]
  },
  {
   "cell_type": "markdown",
   "metadata": {
    "id": "53FR1RJ9BEDs"
   },
   "source": [
    "<b>Important trick 1:</b> It is important to avoid numerical errors. At some point you will have to compute the formula of the following form: $\\frac{e^{y_i}}{\\sum_j e^{y_j}}$, which is called _softmax_. When you compute exponents of large numbers, some numbers may become infinity. You can avoid this by dividing numerator and denominator by $e^{\\max(y)}$: $\\frac{e^{y_i-\\max(y)}}{\\sum_j e^{y_j - \\max(y)}}$. After this transformation maximum value in the denominator will be equal to one. All other terms will contribute smaller values. So, to compute desired formula you first subtract maximum value from each component in vector $\\mathbf{y}$ and then compute everything else as before.\n",
    "\n",
    "<b>Important trick 2:</b> You will probably need to compute formula of the form $A^{-1}x$ at some point. You would normally inverse $A$ and then multiply it by $x$. A bit faster and more numerically accurate way to do this is to directly solve equation $Ay = x$ by using a special function. Its solution is $y=A^{-1}x$, but the equation $Ay = x$ can be solved by methods which do not explicitely invert the matrix. You can use ```np.linalg.solve``` for this.\n",
    "\n",
    "<b>Other usefull functions: </b> <a href=\"https://docs.scipy.org/doc/numpy/reference/generated/numpy.linalg.slogdet.html\">```slogdet```</a> and <a href=\"https://docs.scipy.org/doc/numpy/reference/generated/numpy.linalg.det.html#numpy.linalg.det\">```det```</a>"
   ]
  },
  {
   "cell_type": "markdown",
   "metadata": {
    "id": "KL87Q8-TBEDu"
   },
   "source": [
    "<b>Task 1:</b> Implement E-step for GMM using template below."
   ]
  },
  {
   "cell_type": "code",
   "execution_count": 9,
   "metadata": {
    "id": "wCUCaD28BEDw"
   },
   "outputs": [],
   "source": [
    "def normal_dist_pdf(X, mu, sigma):\n",
    "    N = X.shape[0]  # number of objects\n",
    "    d = X.shape[1]  # dimension of each object\n",
    "    p = np.zeros(X.shape[0])\n",
    "    x_mu_diff = X - mu  # N x d\n",
    "    sigma_inv = np.linalg.inv(sigma)  # d x d\n",
    "    sigma_det = det(sigma)\n",
    "    denominator = np.sqrt(((2 * np.pi) ** d) * sigma_det)\n",
    "    for x_i in range(N):\n",
    "        product = (np.transpose(x_mu_diff[x_i]) @ sigma_inv) @ x_mu_diff[x_i]  # scalar\n",
    "        p[x_i] = np.exp(-product / 2) / denominator\n",
    "    return p\n",
    "\n",
    "def E_step(X, pi, mu, sigma):\n",
    "    \"\"\"\n",
    "    Performs E-step on GMM model\n",
    "    Each input is numpy array:\n",
    "    X: (N x d), data points\n",
    "    pi: (C), mixture component weights \n",
    "    mu: (C x d), mixture component means\n",
    "    sigma: (C x d x d), mixture component covariance matrices\n",
    "    \n",
    "    Returns:\n",
    "    gamma: (N x C), probabilities of clusters for objects\n",
    "    \"\"\"\n",
    "    N = X.shape[0]  # number of objects\n",
    "    C = pi.shape[0]  # number of clusters\n",
    "    d = mu.shape[1]  # dimension of each object\n",
    "    gamma = np.zeros((N, C)) # distribution q(T)\n",
    "\n",
    "    for cluster_i in range(C):\n",
    "        gamma[:, cluster_i] = normal_dist_pdf(X, mu[cluster_i], sigma[cluster_i])\n",
    "    gamma *= pi\n",
    "    gamma_sum = np.sum(gamma, axis=1)\n",
    "    gamma /= np.expand_dims(gamma_sum, axis=1)\n",
    "\n",
    "    return gamma"
   ]
  },
  {
   "cell_type": "code",
   "execution_count": 11,
   "metadata": {
    "colab": {
     "base_uri": "https://localhost:8080/"
    },
    "id": "xlhktOlMBED1",
    "outputId": "e6f5bf4e-6772-4416-900b-5a8bb857c14e"
   },
   "outputs": [],
   "source": [
    "gamma = E_step(X, pi0, mu0, sigma0)"
   ]
  },
  {
   "cell_type": "markdown",
   "metadata": {
    "id": "fERrQWSCBED5"
   },
   "source": [
    "### M-step\n",
    "\n",
    "In M-step we need to maximize $\\mathbb{E}_{q(T)}\\log p(X,T | \\theta)$ with respect to $\\theta$. In our model this means that we need to find optimal values of $\\pi$, $\\mu$, $\\Sigma$. To do so, you need to compute the derivatives and \n",
    "set them to zero. You should start by deriving formulas for $\\mu$ as it is the easiest part. Then move on to $\\Sigma$. Here it is crucial to optimize function w.r.t. to $\\Lambda = \\Sigma^{-1}$ and then inverse obtained result. Finaly, to compute $\\pi$, you will need <a href=\"https://www3.nd.edu/~jstiver/FIN360/Constrained%20Optimization.pdf\">Lagrange Multipliers technique</a> to satisfy constraint $\\sum\\limits_{i=1}^{n}\\pi_i = 1$.\n",
    "\n",
    "<br>\n",
    "<b>Important note:</b> You will need to compute derivatives of scalars with respect to matrices. To refresh this technique from previous courses, see <a href=\"https://en.wikipedia.org/wiki/Matrix_calculus\"> wiki article</a> about it . Main formulas of matrix derivatives can be found in <a href=\"http://www2.imm.dtu.dk/pubdb/views/edoc_download.php/3274/pdf/imm3274.pdf\">Chapter 2 of The Matrix Cookbook</a>. For example, there you may find that $\\frac{\\partial}{\\partial A}\\log |A| = A^{-T}$.\n"
   ]
  },
  {
   "cell_type": "markdown",
   "metadata": {
    "id": "A31OYSogBED6"
   },
   "source": [
    "<b>Task 2:</b> Implement M-step for GMM using template below."
   ]
  },
  {
   "cell_type": "code",
   "execution_count": 12,
   "metadata": {
    "id": "mhOr5I1bBED7"
   },
   "outputs": [],
   "source": [
    "def count_sigma(X, mu, gamma, gamma_sum):\n",
    "    N = X.shape[0] # number of objects\n",
    "    d = X.shape[1]  # dimension of each object\n",
    "    sigma = np.zeros((d, d))\n",
    "    x_mu = X - mu  # N x d\n",
    "    for x_i in range(N):\n",
    "        product = np.expand_dims(x_mu[x_i], axis=1) @ \\\n",
    "            np.expand_dims(x_mu[x_i], axis=0)  #  d x d\n",
    "        sigma += gamma[x_i] * product\n",
    "    sigma /= gamma_sum\n",
    "    return sigma\n",
    "\n",
    "def count_cluster_parameters(X, gamma, gamma_sum):\n",
    "    N = X.shape[0] # number of objects\n",
    "    gamma_x_sum = np.sum(X * np.expand_dims(gamma, axis=1), axis=0)  # d\n",
    "    mu = gamma_x_sum / gamma_sum  # d\n",
    "    sigma = count_sigma(X, mu, gamma, gamma_sum)\n",
    "    pi = gamma_sum / N\n",
    "    return mu, sigma, pi\n",
    "\n",
    "def M_step(X, gamma):\n",
    "    \"\"\"\n",
    "    Performs M-step on GMM model\n",
    "    Each input is numpy array:\n",
    "    X: (N x d), data points\n",
    "    gamma: (N x C), distribution q(T)  \n",
    "    \n",
    "    Returns:\n",
    "    pi: (C)\n",
    "    mu: (C x d)\n",
    "    sigma: (C x d x d)\n",
    "    \"\"\"\n",
    "    C = gamma.shape[1] # number of clusters\n",
    "    d = X.shape[1] # dimension of each object\n",
    "\n",
    "    sigma = np.zeros((C, d, d))\n",
    "    mu = np.zeros((C, d))\n",
    "    pi = np.zeros((C, ))\n",
    "\n",
    "    gamma_sum = np.sum(gamma, axis=0)  # d\n",
    "    for c_i in range(C):\n",
    "        gamma_c = gamma[:, c_i]  # N\n",
    "        gamma_sum_c = gamma_sum[c_i]  # scalar\n",
    "        mu[c_i], sigma[c_i], pi[c_i] = count_cluster_parameters(X, gamma_c, gamma_sum_c)\n",
    "        \n",
    "    return pi, mu, sigma"
   ]
  },
  {
   "cell_type": "code",
   "execution_count": 13,
   "metadata": {
    "colab": {
     "base_uri": "https://localhost:8080/"
    },
    "id": "6i5cv65SBED-",
    "outputId": "1fca05a6-5f61-4834-9321-afb0dc6628f6"
   },
   "outputs": [],
   "source": [
    "gamma = E_step(X, pi0, mu0, sigma0)\n",
    "pi, mu, sigma = M_step(X, gamma)"
   ]
  },
  {
   "cell_type": "markdown",
   "metadata": {
    "id": "svyzjt7XBEEC"
   },
   "source": [
    "### Loss function"
   ]
  },
  {
   "cell_type": "markdown",
   "metadata": {
    "id": "qexOXBLUBEED"
   },
   "source": [
    "Finally, we need some function to track convergence. We will use variational lower bound $\\mathcal{L}$ for this purpose. We will stop our EM iterations when $\\mathcal{L}$ will saturate. Usually, you will need only about 10-20 iterations to converge. It is also useful to check that this function never decreases during training. If it does, you have a bug in your code.\n",
    "\n",
    "<b>Task 3:</b> Implement a function that will compute $\\mathcal{L}$ using template below.\n",
    "\n",
    "$$\\mathcal{L} = \\sum_{i=1}^{N} \\sum_{c=1}^{C} q(t_i =c) (\\log \\pi_c + \\log f_{\\!\\mathcal{N}}(x_i \\mid \\mu_c, \\Sigma_c)) - \\sum_{i=1}^{N} \\sum_{c=1}^{K} q(t_i =c) \\log q(t_i =c)$$"
   ]
  },
  {
   "cell_type": "code",
   "execution_count": 14,
   "metadata": {
    "id": "B5tKCZe0BEEE"
   },
   "outputs": [],
   "source": [
    "def compute_vlb(X, pi, mu, sigma, gamma):\n",
    "    \"\"\"\n",
    "    Each input is numpy array:\n",
    "    X: (N x d), data points\n",
    "    gamma: (N x C), distribution q(T)  \n",
    "    pi: (C)\n",
    "    mu: (C x d)\n",
    "    sigma: (C x d x d)\n",
    "    \n",
    "    Returns value of variational lower bound\n",
    "    \"\"\"\n",
    "    N = X.shape[0] # number of objects\n",
    "    C = gamma.shape[1] # number of clusters\n",
    "    d = X.shape[1] # dimension of each object\n",
    "\n",
    "    f1 = np.zeros((N, C))\n",
    "    for cluster_i in range(C):\n",
    "      f1[:, cluster_i] = scipy.stats.multivariate_normal.logpdf(X, mu[cluster_i], sigma[cluster_i])  # N x C\n",
    "    f1 += np.log(pi)\n",
    "    f1 *= gamma\n",
    "\n",
    "    f2 = gamma * np.log(gamma)\n",
    "\n",
    "    loss = np.sum(f1) - np.sum(f2)\n",
    "\n",
    "    return loss"
   ]
  },
  {
   "cell_type": "code",
   "execution_count": 15,
   "metadata": {
    "colab": {
     "base_uri": "https://localhost:8080/"
    },
    "id": "xNva3XRTBEEI",
    "outputId": "f8c78538-aa5d-47d7-9643-90d7d7207664"
   },
   "outputs": [
    {
     "name": "stdout",
     "output_type": "stream",
     "text": [
      "-1213.9734643060183\n"
     ]
    }
   ],
   "source": [
    "pi, mu, sigma = pi0, mu0, sigma0\n",
    "gamma = E_step(X, pi, mu, sigma)\n",
    "pi, mu, sigma = M_step(X, gamma)\n",
    "loss = compute_vlb(X, pi, mu, sigma, gamma)\n",
    "print(loss)"
   ]
  },
  {
   "cell_type": "markdown",
   "metadata": {
    "id": "I5p8XC-eBEEM"
   },
   "source": [
    "### Bringing it all together"
   ]
  },
  {
   "cell_type": "markdown",
   "metadata": {
    "id": "cQsdsNVCBEEU"
   },
   "source": [
    "Now that we have E step, M step and VLB, we can implement the training loop. We will initialize values of $\\pi$, $\\mu$ and $\\Sigma$ to some random numbers, train until $\\mathcal{L}$ stops changing, and return the resulting points. We also know that the EM algorithm converges to local optima. To find a better local optima, we will restart the algorithm multiple times from different (random) starting positions. Each training trial should stop either when maximum number of iterations is reached or when relative improvement is smaller than given tolerance ($|\\frac{\\mathcal{L}_i-\\mathcal{L}_{i-1}}{\\mathcal{L}_{i-1}}| \\le \\text{rtol}$).\n",
    "\n",
    "Remember, that initial (random) values of $\\pi$ that you generate must be non-negative and sum up to 1. Also, $\\Sigma$ matrices must be symmetric and positive semi-definite. If you don't know how to generate those matrices, you can use $\\Sigma=I$ as initialization.\n",
    "\n",
    "You will also sometimes get numerical errors because of component collapsing. The easiest way to deal with this problems is to restart the procedure.\n",
    "\n",
    "<b>Task 4:</b> Implement training procedure"
   ]
  },
  {
   "cell_type": "code",
   "execution_count": 16,
   "metadata": {
    "id": "Q1AAcyl0BEEW"
   },
   "outputs": [],
   "source": [
    "def get_positive_semidefinite_matrices(d, C):\n",
    "    matrix = np.zeros((C, d, d))\n",
    "    for c in range(C):\n",
    "      matrix[c] = np.random.rand(d, d)\n",
    "      matrix[c] = matrix[c] @ matrix[c].transpose()\n",
    "    return matrix\n",
    "\n",
    "def EM_iteration(X, C, rtol, max_iter):\n",
    "    N = X.shape[0] # number of objects\n",
    "    d = X.shape[1] # dimension of each object\n",
    "    # initializing\n",
    "    sigma = get_positive_semidefinite_matrices(d, C)\n",
    "    mu = np.random.rand(C, d) * (np.max(X, axis=0) - np.min(X, axis=0)) + np.min(X, axis=0)\n",
    "    pi = np.random.rand(C)\n",
    "    pi /= sum(pi)\n",
    "\n",
    "    loss = None\n",
    "    for i in range(max_iter):\n",
    "        gamma = E_step(X, pi, mu, sigma)\n",
    "        pi, mu, sigma = M_step(X, gamma)\n",
    "        new_loss = -compute_vlb(X, pi, mu, sigma, gamma)\n",
    "        print('iteration:', i, 'loss:', new_loss)\n",
    "        if (loss is not None):\n",
    "            tol = abs((new_loss - loss) / loss)\n",
    "            if  tol < rtol:\n",
    "                break\n",
    "        loss = new_loss\n",
    "    return loss, pi, mu, sigma\n",
    "\n",
    "def train_EM(X, C, rtol=1e-3, max_iter=100, restarts=10):\n",
    "    '''\n",
    "    Starts with random initialization *restarts* times\n",
    "    Runs optimization until saturation with *rtol* reached\n",
    "    or *max_iter* iterations were made.\n",
    "    \n",
    "    X: (N, d), data points\n",
    "    C: int, number of clusters\n",
    "    '''\n",
    "    best_loss = None\n",
    "    best_pi = None\n",
    "    best_mu = None\n",
    "    best_sigma = None\n",
    "\n",
    "    for _ in range(restarts):\n",
    "        try:\n",
    "            loss, pi, mu, sigma = EM_iteration(X, C, rtol, max_iter)\n",
    "\n",
    "            if (best_loss is None) or (loss < best_loss):\n",
    "                best_loss = loss\n",
    "                best_pi = pi\n",
    "                best_mu = mu\n",
    "                best_sigma = sigma\n",
    "\n",
    "        except np.linalg.LinAlgError:\n",
    "            print(\"Singular matrix: components collapsed\")\n",
    "        except ValueError as err:\n",
    "          print(err)\n",
    "    return -best_loss, best_pi, best_mu, best_sigma"
   ]
  },
  {
   "cell_type": "code",
   "execution_count": 17,
   "metadata": {
    "colab": {
     "base_uri": "https://localhost:8080/"
    },
    "id": "0f8A5sbmBEEZ",
    "outputId": "f79c5b76-5259-4237-e5e5-d519546fb4d0"
   },
   "outputs": [
    {
     "name": "stderr",
     "output_type": "stream",
     "text": [
      "<ipython-input-14-7afe6f6d7e48>:22: RuntimeWarning: divide by zero encountered in log\n",
      "  f2 = gamma * np.log(gamma)\n",
      "<ipython-input-14-7afe6f6d7e48>:22: RuntimeWarning: invalid value encountered in multiply\n",
      "  f2 = gamma * np.log(gamma)\n"
     ]
    },
    {
     "name": "stdout",
     "output_type": "stream",
     "text": [
      "iteration: 0 loss: nan\n",
      "iteration: 1 loss: nan\n",
      "iteration: 2 loss: 1148.180004723813\n",
      "iteration: 3 loss: 1118.7537332190723\n",
      "iteration: 4 loss: 1113.6600197231876\n",
      "iteration: 5 loss: 1111.1548132989421\n",
      "iteration: 6 loss: 1108.6880315102403\n",
      "iteration: 7 loss: 1106.2492557254886\n",
      "iteration: 8 loss: 1103.884731478748\n",
      "iteration: 9 loss: 1101.6802452028878\n",
      "iteration: 10 loss: 1099.65353604204\n",
      "iteration: 11 loss: 1097.6745571224935\n",
      "iteration: 12 loss: 1095.596729025793\n",
      "iteration: 13 loss: 1093.3293190958586\n",
      "iteration: 14 loss: 1090.8062099044294\n",
      "iteration: 15 loss: 1088.0199087911894\n",
      "iteration: 16 loss: 1085.1508503526738\n",
      "iteration: 17 loss: 1082.5401932478267\n",
      "iteration: 18 loss: 1080.3260769016313\n",
      "iteration: 19 loss: 1078.3686031886737\n",
      "iteration: 20 loss: 1076.5225758398715\n",
      "iteration: 21 loss: 1074.7219695933318\n",
      "iteration: 22 loss: 1072.9520486188796\n",
      "iteration: 23 loss: 1071.2347345746468\n",
      "iteration: 24 loss: 1069.6085353872675\n",
      "iteration: 25 loss: 1068.0940087493236\n",
      "iteration: 26 loss: 1066.7263862291234\n",
      "iteration: 27 loss: 1065.6201667111468\n",
      "iteration: 28 loss: 1064.847163722798\n",
      "Singular matrix: components collapsed\n",
      "iteration: 0 loss: nan\n",
      "iteration: 1 loss: 1154.530932281563\n",
      "iteration: 2 loss: 1141.873457686475\n",
      "iteration: 3 loss: 1135.7179336145825\n",
      "iteration: 4 loss: 1129.7463711264115\n",
      "iteration: 5 loss: 1123.6316138696102\n",
      "iteration: 6 loss: 1120.2338175496209\n",
      "iteration: 7 loss: 1118.355890912714\n",
      "iteration: 8 loss: 1116.9501754812973\n",
      "iteration: 9 loss: 1115.743238945797\n",
      "iteration: 10 loss: 1114.645380291732\n",
      "iteration: 0 loss: nan\n",
      "iteration: 1 loss: 1176.284415472377\n",
      "iteration: 2 loss: 1154.7957738469456\n",
      "iteration: 3 loss: 1139.969692196081\n",
      "iteration: 4 loss: 1129.0960339974179\n",
      "iteration: 5 loss: 1121.0597269215557\n",
      "iteration: 6 loss: 1114.891614029219\n",
      "iteration: 7 loss: 1109.754942569649\n",
      "iteration: 8 loss: 1105.2951090346944\n",
      "iteration: 9 loss: 1101.4219665358996\n",
      "iteration: 10 loss: 1098.1067190699675\n",
      "iteration: 11 loss: 1095.2743811442476\n",
      "iteration: 12 loss: 1092.737609960787\n",
      "iteration: 13 loss: 1090.2411343006638\n",
      "iteration: 14 loss: 1087.7637058156686\n",
      "iteration: 15 loss: 1085.503521143049\n",
      "iteration: 16 loss: 1083.3136940285694\n",
      "iteration: 17 loss: 1080.6631614769308\n",
      "iteration: 18 loss: 1076.665631771897\n",
      "iteration: 19 loss: 1069.9113040611458\n",
      "iteration: 20 loss: 1065.0218979407468\n",
      "iteration: 21 loss: 1064.2208136235636\n",
      "iteration: 0 loss: nan\n",
      "iteration: 1 loss: nan\n",
      "iteration: 2 loss: nan\n",
      "iteration: 3 loss: nan\n",
      "iteration: 4 loss: nan\n",
      "iteration: 5 loss: nan\n",
      "iteration: 6 loss: nan\n",
      "iteration: 7 loss: nan\n",
      "iteration: 8 loss: nan\n",
      "iteration: 9 loss: nan\n",
      "iteration: 10 loss: nan\n",
      "iteration: 11 loss: nan\n",
      "iteration: 12 loss: nan\n",
      "iteration: 13 loss: nan\n",
      "iteration: 14 loss: nan\n",
      "iteration: 15 loss: nan\n",
      "iteration: 16 loss: nan\n",
      "iteration: 17 loss: nan\n",
      "iteration: 18 loss: nan\n",
      "iteration: 19 loss: nan\n",
      "iteration: 20 loss: nan\n",
      "iteration: 21 loss: nan\n",
      "iteration: 22 loss: nan\n",
      "iteration: 23 loss: nan\n",
      "iteration: 24 loss: nan\n",
      "iteration: 25 loss: nan\n",
      "iteration: 26 loss: nan\n",
      "iteration: 27 loss: nan\n",
      "iteration: 28 loss: nan\n",
      "iteration: 29 loss: nan\n",
      "iteration: 30 loss: nan\n",
      "iteration: 31 loss: nan\n",
      "iteration: 32 loss: nan\n",
      "iteration: 33 loss: nan\n",
      "iteration: 34 loss: nan\n",
      "iteration: 35 loss: nan\n",
      "iteration: 36 loss: nan\n",
      "iteration: 37 loss: nan\n",
      "iteration: 38 loss: nan\n",
      "iteration: 39 loss: nan\n",
      "iteration: 40 loss: nan\n",
      "iteration: 41 loss: nan\n",
      "iteration: 42 loss: nan\n",
      "iteration: 43 loss: nan\n",
      "iteration: 44 loss: nan\n",
      "iteration: 45 loss: nan\n",
      "iteration: 46 loss: nan\n",
      "iteration: 47 loss: nan\n",
      "iteration: 48 loss: nan\n",
      "iteration: 49 loss: nan\n",
      "iteration: 50 loss: nan\n",
      "iteration: 51 loss: nan\n",
      "iteration: 52 loss: nan\n",
      "iteration: 53 loss: nan\n",
      "iteration: 54 loss: nan\n",
      "iteration: 55 loss: nan\n",
      "iteration: 56 loss: nan\n",
      "iteration: 57 loss: nan\n",
      "iteration: 58 loss: nan\n",
      "iteration: 59 loss: nan\n",
      "iteration: 60 loss: nan\n",
      "iteration: 61 loss: nan\n",
      "iteration: 62 loss: nan\n",
      "iteration: 63 loss: nan\n",
      "iteration: 64 loss: nan\n",
      "iteration: 65 loss: nan\n",
      "iteration: 66 loss: nan\n",
      "iteration: 67 loss: nan\n",
      "iteration: 68 loss: nan\n",
      "iteration: 69 loss: nan\n",
      "iteration: 70 loss: nan\n",
      "iteration: 71 loss: nan\n",
      "iteration: 72 loss: nan\n",
      "iteration: 73 loss: nan\n",
      "iteration: 74 loss: nan\n",
      "iteration: 75 loss: nan\n",
      "iteration: 76 loss: nan\n",
      "iteration: 77 loss: nan\n",
      "iteration: 78 loss: nan\n",
      "iteration: 79 loss: nan\n",
      "iteration: 80 loss: nan\n",
      "iteration: 81 loss: nan\n",
      "iteration: 82 loss: nan\n",
      "iteration: 83 loss: nan\n",
      "iteration: 84 loss: nan\n",
      "iteration: 85 loss: nan\n",
      "iteration: 86 loss: nan\n",
      "iteration: 87 loss: nan\n",
      "iteration: 88 loss: nan\n",
      "iteration: 89 loss: nan\n",
      "iteration: 90 loss: nan\n",
      "iteration: 91 loss: nan\n",
      "iteration: 92 loss: nan\n",
      "iteration: 93 loss: nan\n",
      "iteration: 94 loss: nan\n",
      "iteration: 95 loss: nan\n",
      "iteration: 96 loss: nan\n",
      "iteration: 97 loss: nan\n",
      "iteration: 98 loss: nan\n",
      "iteration: 99 loss: nan\n",
      "iteration: 0 loss: nan\n",
      "iteration: 1 loss: nan\n",
      "iteration: 2 loss: nan\n",
      "iteration: 3 loss: nan\n",
      "iteration: 4 loss: nan\n",
      "iteration: 5 loss: nan\n",
      "iteration: 6 loss: nan\n",
      "iteration: 7 loss: nan\n",
      "iteration: 8 loss: nan\n",
      "iteration: 9 loss: nan\n",
      "iteration: 10 loss: nan\n",
      "iteration: 11 loss: nan\n",
      "iteration: 12 loss: nan\n",
      "iteration: 13 loss: nan\n",
      "iteration: 14 loss: nan\n",
      "iteration: 15 loss: nan\n",
      "iteration: 16 loss: nan\n",
      "iteration: 17 loss: nan\n",
      "iteration: 18 loss: nan\n",
      "iteration: 19 loss: nan\n",
      "iteration: 20 loss: nan\n",
      "iteration: 21 loss: nan\n",
      "iteration: 22 loss: nan\n",
      "iteration: 23 loss: nan\n",
      "iteration: 24 loss: nan\n",
      "iteration: 25 loss: nan\n",
      "iteration: 26 loss: nan\n",
      "iteration: 27 loss: nan\n",
      "iteration: 28 loss: nan\n",
      "iteration: 29 loss: nan\n",
      "iteration: 30 loss: nan\n",
      "iteration: 31 loss: nan\n",
      "iteration: 32 loss: nan\n",
      "iteration: 33 loss: nan\n",
      "iteration: 34 loss: nan\n",
      "iteration: 35 loss: nan\n",
      "iteration: 36 loss: nan\n",
      "iteration: 37 loss: nan\n",
      "iteration: 38 loss: nan\n",
      "iteration: 39 loss: nan\n",
      "iteration: 40 loss: nan\n",
      "iteration: 41 loss: nan\n",
      "iteration: 42 loss: nan\n",
      "iteration: 43 loss: nan\n",
      "iteration: 44 loss: nan\n",
      "iteration: 45 loss: nan\n",
      "iteration: 46 loss: nan\n",
      "iteration: 47 loss: nan\n",
      "iteration: 48 loss: nan\n",
      "iteration: 49 loss: nan\n",
      "iteration: 50 loss: nan\n",
      "iteration: 51 loss: nan\n",
      "iteration: 52 loss: nan\n",
      "iteration: 53 loss: nan\n",
      "iteration: 54 loss: nan\n",
      "iteration: 55 loss: nan\n",
      "iteration: 56 loss: nan\n",
      "iteration: 57 loss: nan\n",
      "iteration: 58 loss: nan\n",
      "iteration: 59 loss: nan\n",
      "iteration: 60 loss: nan\n",
      "iteration: 61 loss: nan\n",
      "iteration: 62 loss: nan\n",
      "iteration: 63 loss: nan\n",
      "iteration: 64 loss: nan\n",
      "iteration: 65 loss: nan\n",
      "iteration: 66 loss: nan\n",
      "iteration: 67 loss: nan\n",
      "iteration: 68 loss: nan\n",
      "iteration: 69 loss: nan\n",
      "iteration: 70 loss: nan\n",
      "iteration: 71 loss: nan\n",
      "iteration: 72 loss: nan\n",
      "iteration: 73 loss: nan\n",
      "iteration: 74 loss: nan\n",
      "iteration: 75 loss: nan\n",
      "iteration: 76 loss: nan\n",
      "iteration: 77 loss: nan\n",
      "iteration: 78 loss: nan\n",
      "iteration: 79 loss: nan\n",
      "iteration: 80 loss: nan\n",
      "iteration: 81 loss: nan\n",
      "iteration: 82 loss: nan\n",
      "iteration: 83 loss: nan\n",
      "iteration: 84 loss: nan\n",
      "iteration: 85 loss: nan\n",
      "iteration: 86 loss: nan\n",
      "iteration: 87 loss: nan\n",
      "iteration: 88 loss: nan\n",
      "iteration: 89 loss: nan\n",
      "iteration: 90 loss: nan\n",
      "iteration: 91 loss: nan\n",
      "iteration: 92 loss: nan\n",
      "iteration: 93 loss: nan\n",
      "iteration: 94 loss: nan\n",
      "iteration: 95 loss: nan\n",
      "iteration: 96 loss: nan\n",
      "iteration: 97 loss: nan\n",
      "iteration: 98 loss: nan\n",
      "iteration: 99 loss: nan\n",
      "iteration: 0 loss: nan\n",
      "iteration: 1 loss: 1133.4661252659203\n",
      "iteration: 2 loss: 1130.8007754031903\n",
      "iteration: 3 loss: 1127.5569708030139\n",
      "iteration: 4 loss: 1125.177951282286\n",
      "iteration: 5 loss: 1123.523260224124\n",
      "iteration: 6 loss: 1122.6240041933372\n",
      "iteration: 0 loss: nan\n",
      "iteration: 1 loss: 1147.1031428826996\n",
      "iteration: 2 loss: 1138.3002734932393\n",
      "iteration: 3 loss: 1128.6392789267645\n",
      "iteration: 4 loss: 1117.3503200420662\n",
      "iteration: 5 loss: 1104.3032116962447\n",
      "iteration: 6 loss: 1092.0117290256387\n",
      "iteration: 7 loss: 1086.1201241629315\n",
      "iteration: 8 loss: 1082.7569229981536\n",
      "iteration: 9 loss: 1079.6000008314654\n",
      "iteration: 10 loss: 1075.2624171236155\n",
      "iteration: 11 loss: 1069.0294943060635\n",
      "iteration: 12 loss: 1065.437604050266\n",
      "iteration: 13 loss: 1064.5340104486434\n",
      "Singular matrix: components collapsed\n",
      "iteration: 0 loss: nan\n",
      "iteration: 1 loss: nan\n",
      "iteration: 2 loss: nan\n",
      "iteration: 3 loss: nan\n",
      "Singular matrix: components collapsed\n"
     ]
    }
   ],
   "source": [
    "best_loss, best_pi, best_mu, best_sigma = train_EM(X, 3)"
   ]
  },
  {
   "cell_type": "markdown",
   "metadata": {
    "id": "tYd6tPHKBEEd"
   },
   "source": [
    "If you implemented all the steps correctly, your algorithm should converge in about 20 iterations. Let's plot the clusters to see it. We will assign a cluster label as the most probable cluster index. This can be found using a matrix $\\gamma$ computed on last E-step. "
   ]
  },
  {
   "cell_type": "code",
   "execution_count": 18,
   "metadata": {
    "colab": {
     "base_uri": "https://localhost:8080/",
     "height": 265
    },
    "id": "mK_M6QLnBEEe",
    "outputId": "36528c1d-27f8-4a5a-93a0-e97c5251b80a"
   },
   "outputs": [
    {
     "data": {
      "image/png": "[encoded data removed]",
      "text/plain": [
       "<Figure size 432x288 with 1 Axes>"
      ]
     },
     "metadata": {
      "needs_background": "light"
     },
     "output_type": "display_data"
    }
   ],
   "source": [
    "gamma = E_step(X, best_pi, best_mu, best_sigma)\n",
    "labels = gamma.argmax(axis=1)\n",
    "colors = np.array([(31, 119, 180), (255, 127, 14), (44, 160, 44)]) / 255.\n",
    "plt.scatter(X[:, 0], X[:, 1], c=colors[labels], s=30)\n",
    "plt.axis('equal')\n",
    "plt.show()"
   ]
  }
 ],
 "metadata": {
  "colab": {
   "collapsed_sections": [],
   "name": "Copy of em_assignment.ipynb",
   "provenance": [],
   "toc_visible": true
  },
  "kernelspec": {
   "display_name": "Python 3",
   "language": "python",
   "name": "python3"
  },
  "language_info": {
   "codemirror_mode": {
    "name": "ipython",
    "version": 3
   },
   "file_extension": ".py",
   "mimetype": "text/x-python",
   "name": "python",
   "nbconvert_exporter": "python",
   "pygments_lexer": "ipython3",
   "version": "3.8.5"
  },
  "toc": {
   "base_numbering": 1,
   "nav_menu": {},
   "number_sections": true,
   "sideBar": true,
   "skip_h1_title": false,
   "title_cell": "Table of Contents",
   "title_sidebar": "Contents",
   "toc_cell": false,
   "toc_position": {},
   "toc_section_display": true,
   "toc_window_display": false
  }
 },
 "nbformat": 4,
 "nbformat_minor": 1
}
